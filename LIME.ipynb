{
  "nbformat": 4,
  "nbformat_minor": 0,
  "metadata": {
    "colab": {
      "provenance": []
    },
    "kernelspec": {
      "name": "python3",
      "display_name": "Python 3"
    },
    "language_info": {
      "name": "python"
    }
  },
  "cells": [
    {
      "cell_type": "markdown",
      "source": [
        "## **LIME** (LOCAL INTERPRETABLE MODEL-AGNOSTIC EXPLANATIONS)"
      ],
      "metadata": {
        "id": "qwz3FJIRZBLM"
      }
    },
    {
      "cell_type": "code",
      "execution_count": 4,
      "metadata": {
        "id": "6TDxwqMfkw56"
      },
      "outputs": [],
      "source": [
        "import torch\n",
        "import torchvision.models as models\n",
        "import torchvision.transforms as transforms\n",
        "from PIL import Image\n",
        "from skimage.segmentation import slic\n",
        "from skimage.segmentation import mark_boundaries\n",
        "import matplotlib.pyplot as plt\n",
        "import numpy as np"
      ]
    },
    {
      "cell_type": "code",
      "source": [
        "model = models.get_model(\"inception_v3\", weights=\"DEFAULT\")# initailizing inception-v3 a pretrained model with default weights\n",
        "weights = models.Inception_V3_Weights.DEFAULT\n",
        "preprocess = weights.transforms() # For preprocessign and transformation"
      ],
      "metadata": {
        "id": "5aIX__3Gkx_a"
      },
      "execution_count": 55,
      "outputs": []
    },
    {
      "cell_type": "code",
      "source": [
        "img = Image.open('/content/drive/MyDrive/archive/testA/n02381460_1110.jpg').convert('RGB')\n",
        "img_np = np.array(img)\n",
        "# Convert the NumPy array to a PyTorch tensor\n",
        "img = torch.tensor(img_np)\n",
        "img = img.permute(2,0,1)\n",
        "img.shape"
      ],
      "metadata": {
        "colab": {
          "base_uri": "https://localhost:8080/"
        },
        "id": "J7kdPyiulOyu",
        "outputId": "21e87bd9-9907-4077-b066-9291488b07c9"
      },
      "execution_count": 5,
      "outputs": [
        {
          "output_type": "execute_result",
          "data": {
            "text/plain": [
              "torch.Size([3, 256, 256])"
            ]
          },
          "metadata": {},
          "execution_count": 5
        }
      ]
    },
    {
      "cell_type": "code",
      "source": [
        "preprocessed_image_for_slic = img.permute(1, 2, 0).contiguous().numpy() # Convert image in the accordance of slic algorithm\n",
        "segments = torch.tensor(slic(preprocessed_image_for_slic, n_segments=50, compactness=10, sigma=1))\n",
        "segments.shape"
      ],
      "metadata": {
        "colab": {
          "base_uri": "https://localhost:8080/"
        },
        "id": "Sy84lJHfluLF",
        "outputId": "9cd7493d-a004-4c1d-d481-3ee6190d3f3e"
      },
      "execution_count": 7,
      "outputs": [
        {
          "output_type": "execute_result",
          "data": {
            "text/plain": [
              "torch.Size([256, 256])"
            ]
          },
          "metadata": {},
          "execution_count": 7
        }
      ]
    },
    {
      "cell_type": "code",
      "source": [
        "number_of_segments = torch.tensor(np.unique(segments))\n",
        "number_of_segments # Forming the array of segment labels"
      ],
      "metadata": {
        "colab": {
          "base_uri": "https://localhost:8080/"
        },
        "id": "8jK5EHNvl5IU",
        "outputId": "ba3a5cd7-4dab-4304-d707-b97e31401768"
      },
      "execution_count": 8,
      "outputs": [
        {
          "output_type": "execute_result",
          "data": {
            "text/plain": [
              "tensor([ 1,  2,  3,  4,  5,  6,  7,  8,  9, 10, 11, 12, 13, 14, 15, 16, 17, 18,\n",
              "        19, 20, 21, 22, 23, 24, 25, 26, 27, 28, 29, 30, 31, 32, 33, 34, 35, 36,\n",
              "        37, 38, 39, 40, 41])"
            ]
          },
          "metadata": {},
          "execution_count": 8
        }
      ]
    },
    {
      "cell_type": "code",
      "source": [
        "interpretable_vector = torch.ones_like(number_of_segments, dtype = torch.int64)\n",
        "interpretable_vector # Vector easily interpretable by humans"
      ],
      "metadata": {
        "colab": {
          "base_uri": "https://localhost:8080/"
        },
        "id": "z4B-wf8Ul-9N",
        "outputId": "7c93b111-300c-45ec-9dd1-b8bf02feb466"
      },
      "execution_count": 9,
      "outputs": [
        {
          "output_type": "execute_result",
          "data": {
            "text/plain": [
              "tensor([1, 1, 1, 1, 1, 1, 1, 1, 1, 1, 1, 1, 1, 1, 1, 1, 1, 1, 1, 1, 1, 1, 1, 1,\n",
              "        1, 1, 1, 1, 1, 1, 1, 1, 1, 1, 1, 1, 1, 1, 1, 1, 1])"
            ]
          },
          "metadata": {},
          "execution_count": 9
        }
      ]
    },
    {
      "cell_type": "code",
      "source": [
        "Number_samples = 20\n",
        "Z = []  # Interpretable binary vectors\n",
        "Z_images = []  # Perturbed input images\n",
        "for _ in range(Number_samples):\n",
        "    mask = torch.ones_like(number_of_segments, dtype = torch.int64) # initializing the interpretable vector\n",
        "    num_masked = torch.randint(len(interpretable_vector)+1, (1,)).item() # total number of indices should be masked out\n",
        "    indexs = torch.randint(len(interpretable_vector), (num_masked,)) # indices that will masked out\n",
        "    mask[indexs] = 0\n",
        "\n",
        "    clone = segments.clone() # cloning the segment vector\n",
        "    masked = torch.isin(clone,number_of_segments[mask ==0])\n",
        "    perturbed_image = img.clone()\n",
        "    perturbed_image[:, masked] = 0 # creating masked image\n",
        "    Z.append(mask)\n",
        "    Z_images.append(perturbed_image)"
      ],
      "metadata": {
        "id": "4YvTy_nsmCQA"
      },
      "execution_count": 10,
      "outputs": []
    },
    {
      "cell_type": "code",
      "source": [
        "Z_images_tensor = torch.stack(Z_images) # stacking each Z_images tensors to form new dimension\n",
        "Z_images_tensor.shape"
      ],
      "metadata": {
        "colab": {
          "base_uri": "https://localhost:8080/"
        },
        "id": "ZUjfU2ZDmJYV",
        "outputId": "4587198e-2583-47a8-d9f1-b2e4dbb861a8"
      },
      "execution_count": 11,
      "outputs": [
        {
          "output_type": "execute_result",
          "data": {
            "text/plain": [
              "torch.Size([20, 3, 256, 256])"
            ]
          },
          "metadata": {},
          "execution_count": 11
        }
      ]
    },
    {
      "cell_type": "code",
      "source": [
        "model.eval()\n",
        "with torch.no_grad():\n",
        "  preprocessed_image_tensor = preprocess(Z_images_tensor) # Preprocessing the images suitable for the model\n",
        "  pridictions = model(preprocessed_image_tensor) # making predictions for the pretubrated images\n",
        "  pridictions.shape"
      ],
      "metadata": {
        "id": "Uy9GjwUYmLqj"
      },
      "execution_count": 13,
      "outputs": []
    },
    {
      "cell_type": "code",
      "source": [
        "# Computing the distances between original image interpretable vectore and pretubrated image interpretable vector\n",
        "def compute_kernel(x_mask, z_mask, sigma=4.0):\n",
        "    x_flat = x_mask.view(-1).float()\n",
        "    z_flat = z_mask.view(-1).float()\n",
        "    distance = torch.norm(x_flat - z_flat, p=2)\n",
        "    return torch.exp(-(distance ** 2) / (sigma ** 2))\n",
        "\n",
        "weights = torch.tensor([compute_kernel(torch.ones_like(number_of_segments, dtype=torch.int64), z_i) for z_i in Z])  # shape: [N_samples]"
      ],
      "metadata": {
        "id": "T3AcGgDrmUpt"
      },
      "execution_count": 14,
      "outputs": []
    },
    {
      "cell_type": "code",
      "source": [
        "weights"
      ],
      "metadata": {
        "colab": {
          "base_uri": "https://localhost:8080/"
        },
        "id": "SqTThgUymcB2",
        "outputId": "08cdbb15-4b9b-42dc-e74d-495e2bd02ed0"
      },
      "execution_count": 15,
      "outputs": [
        {
          "output_type": "execute_result",
          "data": {
            "text/plain": [
              "tensor([0.2375, 0.2528, 0.7788, 0.2096, 0.6065, 0.8290, 0.2528, 0.4724, 0.5028,\n",
              "        0.4724, 0.1850, 0.2231, 0.8290, 0.3456, 0.8290, 0.1850, 0.2375, 0.2096,\n",
              "        0.1969, 0.8290])"
            ]
          },
          "metadata": {},
          "execution_count": 15
        }
      ]
    },
    {
      "cell_type": "code",
      "source": [
        "target_label = 339\n",
        "y = pridictions[:, target_label] # 339 is the label for horse and our image is also a horse"
      ],
      "metadata": {
        "id": "FHPUK6QAmeDL"
      },
      "execution_count": 16,
      "outputs": []
    },
    {
      "cell_type": "code",
      "source": [
        "# Training a linear model to get to know about which super pixels have affected the prediction most!\n",
        "from sklearn.linear_model import Lasso\n",
        "import torch\n",
        "\n",
        "X = torch.stack([z.float().view(-1) for z in Z]).numpy()\n",
        "Y = y.numpy()\n",
        "W = weights.numpy()\n",
        "\n",
        "model_2 = Lasso(alpha = 0.01)\n",
        "model_2.fit(X, Y, sample_weight=W)\n",
        "coefficients = model_2.coef_"
      ],
      "metadata": {
        "id": "BJRuOSK8mmId"
      },
      "execution_count": 17,
      "outputs": []
    },
    {
      "cell_type": "code",
      "source": [
        "top_indices = coefficients.argsort()[::-1][:10] + 1\n",
        "print(\"Top contributing segments:\", top_indices)"
      ],
      "metadata": {
        "colab": {
          "base_uri": "https://localhost:8080/"
        },
        "id": "5n4PJX71mrJT",
        "outputId": "fb7e3882-f877-4949-e12c-9fd5098069fb"
      },
      "execution_count": 18,
      "outputs": [
        {
          "output_type": "stream",
          "name": "stdout",
          "text": [
            "Top contributing segments: [18 22  8 24 32  1  9 14  2 27]\n"
          ]
        }
      ]
    },
    {
      "cell_type": "code",
      "source": [
        "new_mask = torch.isin(clone,torch.tensor(top_indices))\n",
        "image_important_part = img.clone()\n",
        "image_important_part[:, ~new_mask] = 0"
      ],
      "metadata": {
        "id": "N-9cUTr0mxf1"
      },
      "execution_count": 19,
      "outputs": []
    },
    {
      "cell_type": "code",
      "source": [
        "# Pixles which have a good impact on prediction that this is the image of the horse are shown in this masked image\n",
        "image_important_part = image_important_part.permute(1,2,0)\n",
        "plt.imshow(image_important_part)\n",
        "plt.axis('off')\n",
        "plt.show()"
      ],
      "metadata": {
        "colab": {
          "base_uri": "https://localhost:8080/",
          "height": 406
        },
        "id": "YuyLr67Em7Io",
        "outputId": "f8ce267d-e958-46e8-a754-ae49f1b2d3a3"
      },
      "execution_count": 20,
      "outputs": [
        {
          "output_type": "display_data",
          "data": {
            "text/plain": [
              "<Figure size 640x480 with 1 Axes>"
            ],
            "image/png": "[encoded data removed]"
          },
          "metadata": {}
        }
      ]
    },
    {
      "cell_type": "code",
      "source": [
        "# Converting Everything above into a function for direct use case\n",
        "def LIME(path, model, preprocess, Number_samples = 20, n_segments = 50):\n",
        "  img = Image.open(path).convert('RGB').resize((228,228))\n",
        "  img_np = np.array(img)\n",
        "  img = torch.tensor(img_np)\n",
        "  img = img.permute(2,0,1)\n",
        "\n",
        "  preprocessed_image_for_slic = img.permute(1, 2, 0).contiguous().numpy()\n",
        "  segments = torch.tensor(slic(preprocessed_image_for_slic, n_segments, compactness=10, sigma=1, enforce_connectivity=False))\n",
        "  number_of_segments = torch.tensor(np.unique(segments))\n",
        "  interpretable_vector = torch.ones_like(number_of_segments, dtype = torch.int64)\n",
        "\n",
        "  Z = []  # Interpretable binary vectors\n",
        "  Z_images = []  # Perturbed input images\n",
        "\n",
        "  for _ in range(Number_samples):\n",
        "      mask = torch.ones_like(number_of_segments, dtype = torch.int64)\n",
        "      num_masked = torch.randint(len(interpretable_vector)+1, (1,)).item()\n",
        "      indexs = torch.randint(len(interpretable_vector), (num_masked,))\n",
        "      mask[indexs] = 0\n",
        "\n",
        "      clone = segments.clone()\n",
        "      masked = torch.isin(clone,number_of_segments[mask ==0])\n",
        "      perturbed_image = img.clone()\n",
        "      perturbed_image[:, masked] = 0\n",
        "      Z.append(mask)\n",
        "      Z_images.append(perturbed_image)\n",
        "\n",
        "  Z_images_tensor = torch.stack(Z_images)\n",
        "  model.eval()\n",
        "  with torch.no_grad():\n",
        "    real_preprocessed_image = preprocess(img)\n",
        "    output = model(real_preprocessed_image.unsqueeze(0))\n",
        "    probabilities = torch.nn.functional.softmax(output, dim=1)\n",
        "    predicted_class_index = torch.argmax(probabilities, dim=1)\n",
        "    preprocessed_image_tensor = preprocess(Z_images_tensor)\n",
        "    pridictions = model(preprocessed_image_tensor)\n",
        "\n",
        "  weights = torch.tensor([compute_kernel(torch.ones_like(number_of_segments, dtype=torch.int64), z_i) for z_i in Z])\n",
        "  y = pridictions[:, predicted_class_index]\n",
        "\n",
        "  X = torch.stack([z.float().view(-1) for z in Z]).numpy()\n",
        "  Y = y.numpy()\n",
        "  W = weights.numpy()\n",
        "\n",
        "  model_2 = Lasso(alpha = 0.01)\n",
        "  model_2.fit(X, Y, sample_weight=W)\n",
        "  coefficients = model_2.coef_\n",
        "  return coefficients, clone"
      ],
      "metadata": {
        "id": "igepuv8Loee1"
      },
      "execution_count": 75,
      "outputs": []
    },
    {
      "cell_type": "markdown",
      "source": [
        "# Submodular pick (SP) algorithm"
      ],
      "metadata": {
        "id": "mw0x5d9eXJ3P"
      }
    },
    {
      "cell_type": "code",
      "source": [
        "#importing the path of ten selected images\n",
        "import os\n",
        "import glob\n",
        "image_dir = \"/content/drive/MyDrive/images\"\n",
        "image_paths = glob.glob(os.path.join(image_dir, \"*.jpg\"))\n",
        "image_paths"
      ],
      "metadata": {
        "colab": {
          "base_uri": "https://localhost:8080/"
        },
        "id": "pXmIDdwk2ZY5",
        "outputId": "92c346f6-9769-4792-b7a1-623e012f4d37"
      },
      "execution_count": 34,
      "outputs": [
        {
          "output_type": "execute_result",
          "data": {
            "text/plain": [
              "['/content/drive/MyDrive/images/9.jpg',\n",
              " '/content/drive/MyDrive/images/5.jpg',\n",
              " '/content/drive/MyDrive/images/10.jpg',\n",
              " '/content/drive/MyDrive/images/2.jpg',\n",
              " '/content/drive/MyDrive/images/8.jpg',\n",
              " '/content/drive/MyDrive/images/7.jpg',\n",
              " '/content/drive/MyDrive/images/1.jpg',\n",
              " '/content/drive/MyDrive/images/6.jpg',\n",
              " '/content/drive/MyDrive/images/3.jpg',\n",
              " '/content/drive/MyDrive/images/4.jpg']"
            ]
          },
          "metadata": {},
          "execution_count": 34
        }
      ]
    },
    {
      "cell_type": "code",
      "source": [
        "# Initializing the wight matrix and cloned images\n",
        "matrix_weight = []\n",
        "cloned_images = []"
      ],
      "metadata": {
        "id": "P8ZjwX-l6yXA"
      },
      "execution_count": 73,
      "outputs": []
    },
    {
      "cell_type": "code",
      "source": [
        "# Passing path to the above fucntion and storign the result into the weight matrix\n",
        "for path in image_paths:\n",
        "  coefficients, clone = LIME(path, model, preprocess)\n",
        "  matrix_weight.append(coefficients)\n",
        "  cloned_images.append(clone)"
      ],
      "metadata": {
        "id": "xPfG5pbV6H6s"
      },
      "execution_count": 76,
      "outputs": []
    },
    {
      "cell_type": "code",
      "source": [
        "matrix_weight = torch.tensor(matrix_weight)\n",
        "matrix_weight.shape"
      ],
      "metadata": {
        "colab": {
          "base_uri": "https://localhost:8080/"
        },
        "id": "Di0-Yhj_-HCq",
        "outputId": "7f44d44f-fe2b-4ed5-effc-14f19e1dddcb"
      },
      "execution_count": 77,
      "outputs": [
        {
          "output_type": "execute_result",
          "data": {
            "text/plain": [
              "torch.Size([10, 49])"
            ]
          },
          "metadata": {},
          "execution_count": 77
        }
      ]
    },
    {
      "cell_type": "code",
      "source": [
        "matrix_weight"
      ],
      "metadata": {
        "colab": {
          "base_uri": "https://localhost:8080/"
        },
        "collapsed": true,
        "id": "7uTtcg7RP425",
        "outputId": "f8a8f735-1701-4e10-f517-70c12e1fb880"
      },
      "execution_count": 86,
      "outputs": [
        {
          "output_type": "execute_result",
          "data": {
            "text/plain": [
              "tensor([[ 0.0000e+00,  2.8906e-01,  4.1045e-01,  1.8396e+00,  0.0000e+00,\n",
              "          1.3218e+00,  0.0000e+00,  0.0000e+00,  0.0000e+00,  4.5239e-01,\n",
              "          1.0627e+00,  0.0000e+00,  5.3756e-01,  1.9961e+00,  0.0000e+00,\n",
              "          6.2384e-01,  0.0000e+00,  0.0000e+00,  0.0000e+00,  0.0000e+00,\n",
              "          1.4726e+00, -0.0000e+00,  0.0000e+00,  0.0000e+00, -1.2926e-04,\n",
              "          0.0000e+00,  0.0000e+00,  0.0000e+00,  0.0000e+00,  1.0601e-01,\n",
              "          1.7204e+00,  1.2859e+00,  0.0000e+00,  3.9497e-01,  2.4327e-01,\n",
              "          9.8427e-01,  0.0000e+00, -0.0000e+00, -0.0000e+00,  5.4766e-01,\n",
              "          0.0000e+00,  0.0000e+00,  2.4512e-02,  0.0000e+00,  0.0000e+00,\n",
              "          0.0000e+00,  7.0415e-01, -0.0000e+00,  0.0000e+00],\n",
              "        [ 0.0000e+00,  1.5616e+00,  4.1902e-01,  7.7575e-01,  1.1947e+00,\n",
              "          0.0000e+00,  0.0000e+00,  0.0000e+00, -9.3076e-01, -0.0000e+00,\n",
              "          0.0000e+00,  0.0000e+00, -0.0000e+00,  7.6149e-01,  0.0000e+00,\n",
              "          0.0000e+00, -0.0000e+00,  1.5992e+00,  0.0000e+00,  1.5485e+00,\n",
              "          1.8867e-01,  3.3166e-01,  9.1858e-01,  0.0000e+00,  0.0000e+00,\n",
              "          1.4984e+00,  2.8692e-01,  0.0000e+00,  7.0941e-01,  0.0000e+00,\n",
              "          0.0000e+00,  0.0000e+00,  2.0726e+00,  0.0000e+00,  0.0000e+00,\n",
              "          0.0000e+00,  3.4207e-02,  2.7925e-02,  0.0000e+00,  0.0000e+00,\n",
              "          0.0000e+00,  0.0000e+00,  0.0000e+00,  7.2659e-01,  4.9641e-01,\n",
              "          0.0000e+00,  0.0000e+00,  0.0000e+00,  0.0000e+00],\n",
              "        [ 0.0000e+00, -9.8529e-01, -0.0000e+00,  0.0000e+00, -0.0000e+00,\n",
              "          8.2617e-01,  0.0000e+00, -0.0000e+00,  0.0000e+00, -0.0000e+00,\n",
              "         -0.0000e+00,  0.0000e+00,  0.0000e+00,  4.2496e-01,  0.0000e+00,\n",
              "          0.0000e+00, -0.0000e+00, -0.0000e+00,  1.1018e+00, -1.8128e-01,\n",
              "          1.2583e-01, -0.0000e+00,  0.0000e+00, -0.0000e+00,  2.7279e+00,\n",
              "          0.0000e+00,  2.0770e+00, -0.0000e+00, -2.3678e-01,  3.1810e-01,\n",
              "          0.0000e+00,  0.0000e+00, -0.0000e+00,  0.0000e+00,  0.0000e+00,\n",
              "          0.0000e+00,  3.6443e-01,  5.3597e-01,  6.0480e-01,  1.2572e+00,\n",
              "          1.0582e+00,  1.1979e-01,  1.4593e-01, -0.0000e+00, -5.8402e-01,\n",
              "          0.0000e+00,  0.0000e+00,  1.6019e+00, -0.0000e+00],\n",
              "        [ 0.0000e+00,  0.0000e+00,  0.0000e+00,  0.0000e+00,  0.0000e+00,\n",
              "          9.0763e-01,  2.0882e-01,  0.0000e+00,  0.0000e+00,  0.0000e+00,\n",
              "          1.3837e+00,  9.0824e-01,  0.0000e+00,  0.0000e+00,  1.4034e+00,\n",
              "          0.0000e+00,  0.0000e+00,  2.5669e-01,  5.8841e-01,  0.0000e+00,\n",
              "         -4.7872e-01,  2.8727e-01,  0.0000e+00,  0.0000e+00,  0.0000e+00,\n",
              "          1.6139e+00,  0.0000e+00,  1.2503e+00,  0.0000e+00,  4.2233e-02,\n",
              "         -1.1832e+00,  0.0000e+00,  0.0000e+00,  0.0000e+00, -0.0000e+00,\n",
              "          0.0000e+00,  0.0000e+00,  0.0000e+00,  1.1113e+00,  0.0000e+00,\n",
              "          0.0000e+00,  0.0000e+00,  1.7745e-01,  2.1292e+00, -0.0000e+00,\n",
              "          5.9234e-01,  0.0000e+00,  1.5943e+00, -2.9261e-01],\n",
              "        [-3.6317e-01,  0.0000e+00,  6.1867e-01, -0.0000e+00, -9.6121e-01,\n",
              "          0.0000e+00, -0.0000e+00,  4.5621e-01, -0.0000e+00,  1.0637e+00,\n",
              "          0.0000e+00,  0.0000e+00, -6.2863e-02,  0.0000e+00,  5.8037e-02,\n",
              "         -0.0000e+00, -0.0000e+00, -7.3196e-01, -0.0000e+00,  1.0524e+00,\n",
              "          8.4310e-01, -0.0000e+00,  0.0000e+00,  0.0000e+00,  2.7323e-01,\n",
              "          0.0000e+00, -0.0000e+00, -0.0000e+00,  0.0000e+00, -0.0000e+00,\n",
              "          8.5310e-01,  1.2028e+00,  0.0000e+00, -0.0000e+00, -0.0000e+00,\n",
              "          0.0000e+00, -1.9901e-01, -0.0000e+00, -0.0000e+00,  4.4781e-01,\n",
              "          0.0000e+00,  1.0772e+00,  0.0000e+00, -0.0000e+00,  6.7162e-01,\n",
              "          1.1297e+00,  8.4110e-02, -0.0000e+00, -0.0000e+00],\n",
              "        [ 0.0000e+00, -0.0000e+00, -1.1352e+00,  1.2230e+00, -0.0000e+00,\n",
              "         -0.0000e+00,  0.0000e+00,  1.1497e+00,  0.0000e+00, -8.4435e-01,\n",
              "          2.5022e-02,  1.1141e+00,  5.8427e-01,  0.0000e+00,  2.8806e-01,\n",
              "          0.0000e+00,  2.0336e-01,  0.0000e+00,  0.0000e+00,  0.0000e+00,\n",
              "          0.0000e+00, -0.0000e+00,  5.8838e-01,  0.0000e+00, -0.0000e+00,\n",
              "          1.5320e+00, -0.0000e+00,  0.0000e+00,  0.0000e+00,  0.0000e+00,\n",
              "          3.6585e-01,  1.4405e+00,  1.1085e+00,  0.0000e+00, -0.0000e+00,\n",
              "          0.0000e+00,  0.0000e+00, -7.6351e-02,  1.2258e+00,  1.3652e+00,\n",
              "         -0.0000e+00,  0.0000e+00,  1.2768e+00, -0.0000e+00,  0.0000e+00,\n",
              "          0.0000e+00,  1.1301e+00,  0.0000e+00,  0.0000e+00],\n",
              "        [-2.7034e-01,  0.0000e+00, -8.7859e-03,  0.0000e+00,  0.0000e+00,\n",
              "         -0.0000e+00,  0.0000e+00, -0.0000e+00,  0.0000e+00,  0.0000e+00,\n",
              "          8.7351e-01,  0.0000e+00,  0.0000e+00, -0.0000e+00,  0.0000e+00,\n",
              "         -0.0000e+00,  2.6386e-01,  8.4859e-01,  4.5665e+00,  0.0000e+00,\n",
              "         -0.0000e+00, -2.1555e-02,  5.2941e-01,  4.1989e-02,  2.2571e-01,\n",
              "          0.0000e+00, -0.0000e+00, -0.0000e+00,  0.0000e+00,  4.2846e-01,\n",
              "          0.0000e+00,  1.1223e+00, -6.3228e-01, -0.0000e+00,  0.0000e+00,\n",
              "          0.0000e+00,  0.0000e+00, -0.0000e+00,  0.0000e+00,  0.0000e+00,\n",
              "         -0.0000e+00, -1.1539e-01, -0.0000e+00,  0.0000e+00,  7.2869e-01,\n",
              "         -0.0000e+00,  2.5068e-01, -6.6311e-03, -4.4529e-01],\n",
              "        [ 1.2234e+00,  0.0000e+00, -0.0000e+00,  0.0000e+00,  7.1160e-01,\n",
              "         -0.0000e+00,  0.0000e+00, -1.0874e-02, -2.8832e-01,  0.0000e+00,\n",
              "         -0.0000e+00,  1.0366e+00,  0.0000e+00,  0.0000e+00, -0.0000e+00,\n",
              "          0.0000e+00,  5.3451e-01, -2.5346e+00,  0.0000e+00, -0.0000e+00,\n",
              "          0.0000e+00, -0.0000e+00, -8.3427e-03, -4.2921e-01, -0.0000e+00,\n",
              "         -2.6940e-01,  1.0504e-01, -0.0000e+00, -0.0000e+00,  1.8677e+00,\n",
              "         -7.7197e-01,  0.0000e+00,  2.0258e-01, -0.0000e+00, -0.0000e+00,\n",
              "          1.3379e+00,  3.1348e+00, -0.0000e+00, -0.0000e+00, -2.0243e+00,\n",
              "          3.9856e-03, -6.9057e-02,  0.0000e+00, -1.8841e-01,  0.0000e+00,\n",
              "          0.0000e+00,  0.0000e+00, -0.0000e+00,  0.0000e+00],\n",
              "        [ 2.2254e-01,  1.2994e+00,  0.0000e+00,  7.6411e-01,  1.7207e+00,\n",
              "          1.2236e-01,  0.0000e+00,  0.0000e+00, -0.0000e+00,  4.9140e-01,\n",
              "          4.6861e-01,  0.0000e+00,  2.2254e-01, -0.0000e+00,  0.0000e+00,\n",
              "         -0.0000e+00,  0.0000e+00,  0.0000e+00,  3.3174e+00,  3.5852e-03,\n",
              "         -9.5007e-01,  0.0000e+00, -0.0000e+00,  0.0000e+00,  2.4904e-02,\n",
              "          0.0000e+00,  1.8144e+00,  0.0000e+00, -4.9972e-01, -0.0000e+00,\n",
              "         -0.0000e+00, -0.0000e+00,  0.0000e+00,  0.0000e+00,  2.6369e-01,\n",
              "         -0.0000e+00,  0.0000e+00, -0.0000e+00, -0.0000e+00,  0.0000e+00,\n",
              "          0.0000e+00,  0.0000e+00,  3.0340e-01,  0.0000e+00,  4.0593e-02,\n",
              "         -0.0000e+00,  0.0000e+00, -1.4347e+00, -0.0000e+00],\n",
              "        [-5.8412e-01,  0.0000e+00,  2.7088e-01, -0.0000e+00, -0.0000e+00,\n",
              "         -0.0000e+00, -5.2333e-01, -5.2171e-01, -0.0000e+00,  0.0000e+00,\n",
              "          2.4191e-01,  0.0000e+00, -0.0000e+00, -7.0858e-01,  0.0000e+00,\n",
              "          4.3411e-01,  1.8162e-01,  0.0000e+00,  0.0000e+00, -0.0000e+00,\n",
              "         -0.0000e+00,  4.2458e-01, -0.0000e+00,  2.8122e+00,  0.0000e+00,\n",
              "          8.1797e-01,  0.0000e+00,  0.0000e+00, -0.0000e+00,  0.0000e+00,\n",
              "         -8.4643e-01, -7.4296e-01,  1.0965e-02, -0.0000e+00, -0.0000e+00,\n",
              "          0.0000e+00, -0.0000e+00,  5.0437e-01, -0.0000e+00, -3.9458e-02,\n",
              "          0.0000e+00, -0.0000e+00, -0.0000e+00,  2.0004e-01,  4.4324e-01,\n",
              "          0.0000e+00, -0.0000e+00,  0.0000e+00,  0.0000e+00]])"
            ]
          },
          "metadata": {},
          "execution_count": 86
        }
      ]
    },
    {
      "cell_type": "code",
      "source": [
        "# Calculating the importance matrix(global importance) for all the features (in this case we have 50 superpixles so 50 features)\n",
        "weights_sum_matrix = torch.abs(matrix_weight).sum(dim=0)\n",
        "Importnace_matrix = torch.sqrt(weights_sum_matrix)\n",
        "Importnace_matrix"
      ],
      "metadata": {
        "colab": {
          "base_uri": "https://localhost:8080/"
        },
        "id": "wE9f7y4kBfpG",
        "outputId": "12fa630d-7be0-45d2-fd49-cc72a9c360b8"
      },
      "execution_count": 85,
      "outputs": [
        {
          "output_type": "execute_result",
          "data": {
            "text/plain": [
              "tensor([1.6320, 2.0336, 1.6920, 2.1453, 2.1420, 1.7827, 0.8557, 1.4624, 1.1041,\n",
              "        1.6887, 2.0138, 1.7490, 1.1863, 1.9726, 1.3227, 1.0286, 1.0878, 2.4436,\n",
              "        3.0942, 1.6691, 2.0147, 1.0320, 1.4299, 1.8120, 1.8033, 2.3941, 2.0696,\n",
              "        1.1182, 1.2025, 1.6621, 2.3960, 2.4072, 2.0067, 0.6285, 0.7120, 1.5239,\n",
              "        1.9319, 1.0699, 1.7152, 2.3836, 1.0306, 1.1754, 1.3886, 1.8012, 1.7218,\n",
              "        1.3123, 1.4728, 2.1535, 0.8590])"
            ]
          },
          "metadata": {},
          "execution_count": 85
        }
      ]
    },
    {
      "cell_type": "code",
      "source": [
        "# Defining the set function which calcuate the coverage of each instances present in set V\n",
        "def set_C(V, W, I):\n",
        "  value = 0\n",
        "  sum = 0\n",
        "  for index, score in enumerate(I):\n",
        "    for j in V:\n",
        "      if W[j][index] > 0:\n",
        "        value = 1\n",
        "        break\n",
        "      else:\n",
        "        value = 0\n",
        "    sum = sum + value*score\n",
        "  return sum"
      ],
      "metadata": {
        "id": "70SISx0eHOnS"
      },
      "execution_count": 87,
      "outputs": []
    },
    {
      "cell_type": "code",
      "source": [
        "# Finding the best 5 examples which after analysing using LIME algorithm will give the better understanding of the complete model\n",
        "B = 5\n",
        "V = set()\n",
        "while len(V) < B:\n",
        "    all_score = []\n",
        "    candidates = list(set(range(len(image_paths))) - V)  # Only consider unused indices\n",
        "\n",
        "    for i in candidates:\n",
        "        temp_V = V | {i}  # temporary set with i added\n",
        "        score = set_C(temp_V, matrix_weight, Importnace_matrix)\n",
        "        all_score.append(score)\n",
        "\n",
        "    best_i = candidates[all_score.index(max(all_score))]  # best i from candidates\n",
        "    V.add(best_i)  # now update the real V\n",
        "print(V)"
      ],
      "metadata": {
        "colab": {
          "base_uri": "https://localhost:8080/"
        },
        "id": "qLwCS3o6QNNt",
        "outputId": "d6fb40fc-3198-43ea-9c81-7253e2a5eb02"
      },
      "execution_count": 91,
      "outputs": [
        {
          "output_type": "stream",
          "name": "stdout",
          "text": [
            "{0, 1, 3, 6, 7}\n"
          ]
        }
      ]
    },
    {
      "cell_type": "markdown",
      "source": [
        "### So we get {0, 1, 3, 6, 7} images in my path which have high coverage of features and after analysing using LIME give better understanding about model"
      ],
      "metadata": {
        "id": "DixIQU7rYmMn"
      }
    }
  ]
}